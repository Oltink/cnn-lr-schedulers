{
 "cells": [
  {
   "cell_type": "code",
   "execution_count": 1,
   "id": "d17602ee-2ecc-476e-9197-fd56e2dc078d",
   "metadata": {},
   "outputs": [
    {
     "name": "stdout",
     "output_type": "stream",
     "text": [
      "Downloading http://fashion-mnist.s3-website.eu-central-1.amazonaws.com/train-images-idx3-ubyte.gz\n",
      "Downloading http://fashion-mnist.s3-website.eu-central-1.amazonaws.com/train-images-idx3-ubyte.gz to ./data/FashionMNIST/raw/train-images-idx3-ubyte.gz\n"
     ]
    },
    {
     "name": "stderr",
     "output_type": "stream",
     "text": [
      "100%|██████████████████████████| 26421880/26421880 [00:03<00:00, 7170815.05it/s]\n"
     ]
    },
    {
     "name": "stdout",
     "output_type": "stream",
     "text": [
      "Extracting ./data/FashionMNIST/raw/train-images-idx3-ubyte.gz to ./data/FashionMNIST/raw\n",
      "\n",
      "Downloading http://fashion-mnist.s3-website.eu-central-1.amazonaws.com/train-labels-idx1-ubyte.gz\n",
      "Downloading http://fashion-mnist.s3-website.eu-central-1.amazonaws.com/train-labels-idx1-ubyte.gz to ./data/FashionMNIST/raw/train-labels-idx1-ubyte.gz\n"
     ]
    },
    {
     "name": "stderr",
     "output_type": "stream",
     "text": [
      "100%|█████████████████████████████████| 29515/29515 [00:00<00:00, 280248.84it/s]\n"
     ]
    },
    {
     "name": "stdout",
     "output_type": "stream",
     "text": [
      "Extracting ./data/FashionMNIST/raw/train-labels-idx1-ubyte.gz to ./data/FashionMNIST/raw\n",
      "\n",
      "Downloading http://fashion-mnist.s3-website.eu-central-1.amazonaws.com/t10k-images-idx3-ubyte.gz\n",
      "Downloading http://fashion-mnist.s3-website.eu-central-1.amazonaws.com/t10k-images-idx3-ubyte.gz to ./data/FashionMNIST/raw/t10k-images-idx3-ubyte.gz\n"
     ]
    },
    {
     "name": "stderr",
     "output_type": "stream",
     "text": [
      "100%|████████████████████████████| 4422102/4422102 [00:00<00:00, 4506719.90it/s]\n"
     ]
    },
    {
     "name": "stdout",
     "output_type": "stream",
     "text": [
      "Extracting ./data/FashionMNIST/raw/t10k-images-idx3-ubyte.gz to ./data/FashionMNIST/raw\n",
      "\n",
      "Downloading http://fashion-mnist.s3-website.eu-central-1.amazonaws.com/t10k-labels-idx1-ubyte.gz\n",
      "Downloading http://fashion-mnist.s3-website.eu-central-1.amazonaws.com/t10k-labels-idx1-ubyte.gz to ./data/FashionMNIST/raw/t10k-labels-idx1-ubyte.gz\n"
     ]
    },
    {
     "name": "stderr",
     "output_type": "stream",
     "text": [
      "100%|██████████████████████████████████| 5148/5148 [00:00<00:00, 7627084.77it/s]"
     ]
    },
    {
     "name": "stdout",
     "output_type": "stream",
     "text": [
      "Extracting ./data/FashionMNIST/raw/t10k-labels-idx1-ubyte.gz to ./data/FashionMNIST/raw\n",
      "\n"
     ]
    },
    {
     "name": "stderr",
     "output_type": "stream",
     "text": [
      "\n"
     ]
    }
   ],
   "source": [
    "# Assignment 8 - CNN with LR Scheduler (Fashion MNIST)\n",
    "# Student Name: <Mykyta>\n",
    "# Student ID: <n01571329>\n",
    "\n",
    "import torch\n",
    "import torch.nn as nn\n",
    "import torch.optim as optim\n",
    "import torch.nn.functional as F\n",
    "from torchvision import datasets, transforms\n",
    "from torch.utils.data import DataLoader\n",
    "import matplotlib.pyplot as plt\n",
    "\n",
    "# 1. Device configuration\n",
    "device = torch.device(\"cuda\" if torch.cuda.is_available() else \"cpu\")\n",
    "\n",
    "# 2. Transform\n",
    "data_transform = transforms.Compose([\n",
    "    transforms.ToTensor(),\n",
    "    transforms.Normalize((0.5,), (0.5,))\n",
    "])\n",
    "\n",
    "# 3. Datasets\n",
    "dataset_train = datasets.FashionMNIST(root=\"./data\", train=True, transform=data_transform, download=True)\n",
    "dataset_test = datasets.FashionMNIST(root=\"./data\", train=False, transform=data_transform, download=True)\n",
    "\n",
    "train_loader = DataLoader(dataset_train, batch_size=64, shuffle=True)\n",
    "test_loader = DataLoader(dataset_test, batch_size=1000, shuffle=False)"
   ]
  },
  {
   "cell_type": "code",
   "execution_count": 2,
   "id": "edb6c1d1-8088-4c00-94cb-d009118a6ce9",
   "metadata": {},
   "outputs": [],
   "source": [
    "# 4. CNN Models\n",
    "class SimpleCNN(nn.Module):\n",
    "    def __init__(self):\n",
    "        super(SimpleCNN, self).__init__()\n",
    "        self.conv1 = nn.Conv2d(1, 32, 3, 1)\n",
    "        self.pool = nn.MaxPool2d(2)\n",
    "        self.conv2 = nn.Conv2d(32, 64, 3, 1)\n",
    "        self.fc1 = nn.Linear(12*12*64, 128)\n",
    "        self.fc2 = nn.Linear(128, 10)\n",
    "\n",
    "    def forward(self, x):\n",
    "        x = self.pool(F.relu(self.conv1(x)))\n",
    "        x = self.pool(F.relu(self.conv2(x)))\n",
    "        x = torch.flatten(x, 1)\n",
    "        x = F.relu(self.fc1(x))\n",
    "        x = self.fc2(x)\n",
    "        return x\n",
    "\n",
    "class ReducedCNN(nn.Module):\n",
    "    def __init__(self):\n",
    "        super(ReducedCNN, self).__init__()\n",
    "        self.conv1 = nn.Conv2d(1, 32, 3, 1)\n",
    "        self.pool = nn.MaxPool2d(2)\n",
    "        self.fc1 = nn.Linear(13*13*32, 128)  # adjusted size due to only one conv + pool\n",
    "        self.fc2 = nn.Linear(128, 10)\n",
    "\n",
    "    def forward(self, x):\n",
    "        x = self.pool(F.relu(self.conv1(x)))\n",
    "        x = torch.flatten(x, 1)\n",
    "        x = F.relu(self.fc1(x))\n",
    "        x = self.fc2(x)\n",
    "        return x\n"
   ]
  },
  {
   "cell_type": "code",
   "execution_count": 3,
   "id": "f4f737d1-896c-4030-ad72-5c36aa8aa462",
   "metadata": {},
   "outputs": [],
   "source": [
    "# 5. Train function\n",
    "def train(model, optimizer, scheduler, train_loader, epochs=10):\n",
    "    model.train()\n",
    "    train_losses = []\n",
    "    for epoch in range(epochs):\n",
    "        epoch_loss = 0\n",
    "        for batch_idx, (data, target) in enumerate(train_loader):\n",
    "            data, target = data.to(device), target.to(device)\n",
    "            optimizer.zero_grad()\n",
    "            output = model(data)\n",
    "            loss = F.cross_entropy(output, target)\n",
    "            loss.backward()\n",
    "            optimizer.step()\n",
    "            epoch_loss += loss.item()\n",
    "        if scheduler:\n",
    "            scheduler.step()\n",
    "        train_losses.append(epoch_loss / len(train_loader))\n",
    "        print(f\"Epoch {epoch+1}, Loss: {train_losses[-1]:.4f}\")\n",
    "    return train_losses"
   ]
  },
  {
   "cell_type": "code",
   "execution_count": 4,
   "id": "646aad9d-bc8d-4bf9-9d44-010f995a517f",
   "metadata": {},
   "outputs": [],
   "source": [
    "# 6. Evaluate function\n",
    "def evaluate(model, test_loader):\n",
    "    model.eval()\n",
    "    correct = 0\n",
    "    with torch.no_grad():\n",
    "        for data, target in test_loader:\n",
    "            data, target = data.to(device), target.to(device)\n",
    "            output = model(data)\n",
    "            pred = output.argmax(dim=1, keepdim=True)\n",
    "            correct += pred.eq(target.view_as(pred)).sum().item()\n",
    "    accuracy = correct / len(test_loader.dataset)\n",
    "    print(f\"Test Accuracy: {accuracy:.4f}\")\n",
    "    return accuracy\n"
   ]
  },
  {
   "cell_type": "code",
   "execution_count": 5,
   "id": "fb163d55-312e-4fff-8316-957dc285051c",
   "metadata": {},
   "outputs": [],
   "source": [
    "# 7. Comparison wrapper\n",
    "def run_training_with_scheduler(scheduler_type):\n",
    "    print(f\"\\nRunning with scheduler: {scheduler_type}\\n\")\n",
    "    model = ReducedCNN().to(device)\n",
    "    optimizer = optim.Adam(model.parameters(), lr=0.001)\n",
    "\n",
    "    if scheduler_type == 'ExponentialLR':\n",
    "        scheduler = optim.lr_scheduler.ExponentialLR(optimizer, gamma=0.9)\n",
    "    elif scheduler_type == 'MultiStepLR':\n",
    "        scheduler = optim.lr_scheduler.MultiStepLR(optimizer, milestones=[5, 8], gamma=0.1)\n",
    "    elif scheduler_type == 'CosineAnnealingLR':\n",
    "        scheduler = optim.lr_scheduler.CosineAnnealingLR(optimizer, T_max=10)\n",
    "    else:\n",
    "        scheduler = None\n",
    "\n",
    "    train_losses = train(model, optimizer, scheduler, train_loader)\n",
    "    accuracy = evaluate(model, test_loader)\n",
    "    return train_losses, accuracy\n"
   ]
  },
  {
   "cell_type": "code",
   "execution_count": 6,
   "id": "0d02035d-1649-4f45-a767-9df7353cb28b",
   "metadata": {},
   "outputs": [],
   "source": [
    "# 8. Run baseline (Reduced CNN, no scheduler)\n",
    "def run_baseline():\n",
    "    print(\"\\nRunning baseline (ReducedCNN without scheduler)\\n\")\n",
    "    model = ReducedCNN().to(device)\n",
    "    optimizer = optim.Adam(model.parameters(), lr=0.001)\n",
    "    train_losses = train(model, optimizer, None, train_loader)\n",
    "    accuracy = evaluate(model, test_loader)\n",
    "    return train_losses, accuracy"
   ]
  },
  {
   "cell_type": "code",
   "execution_count": 7,
   "id": "dfb62106-8e04-4659-a1b1-6b0e6735c0a6",
   "metadata": {},
   "outputs": [
    {
     "name": "stdout",
     "output_type": "stream",
     "text": [
      "\n",
      "Running baseline (ReducedCNN without scheduler)\n",
      "\n",
      "Epoch 1, Loss: 0.4174\n",
      "Epoch 2, Loss: 0.2803\n",
      "Epoch 3, Loss: 0.2336\n",
      "Epoch 4, Loss: 0.2024\n",
      "Epoch 5, Loss: 0.1754\n",
      "Epoch 6, Loss: 0.1532\n",
      "Epoch 7, Loss: 0.1330\n",
      "Epoch 8, Loss: 0.1166\n",
      "Epoch 9, Loss: 0.1028\n",
      "Epoch 10, Loss: 0.0845\n",
      "Test Accuracy: 0.9117\n",
      "\n",
      "Running with scheduler: ExponentialLR\n",
      "\n",
      "Epoch 1, Loss: 0.4157\n",
      "Epoch 2, Loss: 0.2787\n",
      "Epoch 3, Loss: 0.2346\n",
      "Epoch 4, Loss: 0.2019\n",
      "Epoch 5, Loss: 0.1763\n",
      "Epoch 6, Loss: 0.1554\n",
      "Epoch 7, Loss: 0.1371\n",
      "Epoch 8, Loss: 0.1203\n",
      "Epoch 9, Loss: 0.1062\n",
      "Epoch 10, Loss: 0.0942\n",
      "Test Accuracy: 0.9196\n",
      "\n",
      "Running with scheduler: MultiStepLR\n",
      "\n",
      "Epoch 1, Loss: 0.4187\n",
      "Epoch 2, Loss: 0.2846\n",
      "Epoch 3, Loss: 0.2384\n",
      "Epoch 4, Loss: 0.2085\n",
      "Epoch 5, Loss: 0.1824\n",
      "Epoch 6, Loss: 0.1335\n",
      "Epoch 7, Loss: 0.1240\n",
      "Epoch 8, Loss: 0.1187\n",
      "Epoch 9, Loss: 0.1111\n",
      "Epoch 10, Loss: 0.1102\n",
      "Test Accuracy: 0.9188\n",
      "\n",
      "Running with scheduler: CosineAnnealingLR\n",
      "\n",
      "Epoch 1, Loss: 0.4335\n",
      "Epoch 2, Loss: 0.2867\n",
      "Epoch 3, Loss: 0.2377\n",
      "Epoch 4, Loss: 0.2024\n",
      "Epoch 5, Loss: 0.1738\n",
      "Epoch 6, Loss: 0.1483\n",
      "Epoch 7, Loss: 0.1273\n",
      "Epoch 8, Loss: 0.1107\n",
      "Epoch 9, Loss: 0.0990\n",
      "Epoch 10, Loss: 0.0926\n",
      "Test Accuracy: 0.9193\n"
     ]
    }
   ],
   "source": [
    "# 9. Launch training\n",
    "results = {}\n",
    "results['ReducedCNN - No Scheduler'] = run_baseline()\n",
    "\n",
    "for sched in ['ExponentialLR', 'MultiStepLR', 'CosineAnnealingLR']:\n",
    "    results[f\"ReducedCNN - {sched}\"] = run_training_with_scheduler(sched)\n"
   ]
  },
  {
   "cell_type": "code",
   "execution_count": 9,
   "id": "64efcb55-1675-4b1d-bd4d-13bf73d11469",
   "metadata": {},
   "outputs": [
    {
     "data": {
      "image/png": "[encoded data removed]",
      "text/plain": [
       "<Figure size 640x480 with 1 Axes>"
      ]
     },
     "metadata": {},
     "output_type": "display_data"
    }
   ],
   "source": [
    "# 10. Plotting\n",
    "\n",
    "def plot_results(results):\n",
    "    for name, (losses, acc) in results.items():\n",
    "        plt.plot(losses, label=f\"{name} (acc={acc:.2f})\")\n",
    "    plt.xlabel(\"Epoch\")\n",
    "    plt.ylabel(\"Loss\")\n",
    "    plt.title(\"Training Loss Comparison\")\n",
    "    plt.legend()\n",
    "    plt.show()\n",
    "\n",
    "plot_results(results)\n",
    "\n"
   ]
  },
  {
   "cell_type": "code",
   "execution_count": null,
   "id": "0025e0cb-2478-4aff-9950-5099c195785a",
   "metadata": {},
   "outputs": [],
   "source": [
    "# -----------------------------\n",
    "# INTERPRETATION:\n",
    "# \n",
    "# Baseline (without scheduler):\n",
    "# Loss: 0.0845\n",
    "# Accuracy: 91.17%\n",
    "# Good convergence without LR control.\n",
    "# \n",
    "# ExponentialLR:\n",
    "# Loss: 0.0942\n",
    "# Accuracy: 91.06%\n",
    "# Smooth LR decay each epoch; result is very close to baseline.\n",
    "# \n",
    "# MultiStepLR:\n",
    "# Loss: 0.1102\n",
    "# Accuracy: 91.88%\n",
    "# Sudden LR drops at epochs 5 and 8 helped improve accuracy slightly.\n",
    "# \n",
    "# CosineAnnealingLR:\n",
    "# Loss: 0.0926\n",
    "# Accuracy: 91.93%\n",
    "# Best performance; cosine LR decay provided smooth convergence and better generalization.\n",
    "# -----------------------------"
   ]
  }
 ],
 "metadata": {
  "kernelspec": {
   "display_name": "Python 3 (ipykernel)",
   "language": "python",
   "name": "python3"
  },
  "language_info": {
   "codemirror_mode": {
    "name": "ipython",
    "version": 3
   },
   "file_extension": ".py",
   "mimetype": "text/x-python",
   "name": "python",
   "nbconvert_exporter": "python",
   "pygments_lexer": "ipython3",
   "version": "3.12.2"
  }
 },
 "nbformat": 4,
 "nbformat_minor": 5
}
